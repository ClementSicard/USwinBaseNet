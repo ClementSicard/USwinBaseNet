{
    "cells": [
        {
            "cell_type": "code",
            "execution_count": 1,
            "metadata": {},
            "outputs": [],
            "source": [
                "import torch\n",
                "from utils import *\n",
                "from dataset import ImageDataset\n",
                "from models.swin_unet import SwinUNet\n",
                "from dataset import ImageDataset\n",
                "import os\n",
                "from glob import glob\n",
                "\n",
                "from tqdm import tqdm\n",
                "from utils import *\n",
                "from consts import *\n",
                "import cv2\n",
                "import numpy as np\n",
                "from datetime import datetime\n",
                "from PIL.Image import fromarray"
            ]
        },
        {
            "cell_type": "code",
            "execution_count": 2,
            "metadata": {},
            "outputs": [
                {
                    "data": {
                        "text/plain": [
                            "<All keys matched successfully>"
                        ]
                    },
                    "execution_count": 2,
                    "metadata": {},
                    "output_type": "execute_result"
                }
            ],
            "source": [
                "checkpoint = torch.load(\"/cluster/scratch/csicard/checkpoints/swin-unet/best_val_patch_acc_0.919625_epoch_24.pt\", map_location=torch.device('cpu'))\n",
                "model = SwinUNet(model_type=\"base\").to(\"cpu\")\n",
                "model.load_state_dict(checkpoint[\"model_state_dict\"])"
            ]
        },
        {
            "cell_type": "code",
            "execution_count": 9,
            "metadata": {},
            "outputs": [
                {
                    "name": "stdout",
                    "output_type": "stream",
                    "text": [
                        "Predicting on test set...\n"
                    ]
                },
                {
                    "name": "stderr",
                    "output_type": "stream",
                    "text": [
                        "Loading images: 100%|██████████| 144/144 [00:00<00:00, 162.66it/s]\n"
                    ]
                },
                {
                    "name": "stdout",
                    "output_type": "stream",
                    "text": [
                        "Resizing test images...\n"
                    ]
                }
            ],
            "source": [
                "device = \"cpu\"\n",
                "test_path = \"../data/test\"\n",
                "\n",
                "\n",
                "print(\"Predicting on test set...\")\n",
                "test_path = os.path.join(test_path, \"images\")\n",
                "test_filenames = glob(test_path + \"/*.png\")\n",
                "test_images = load_all_from_path(test_path)\n",
                "batch_size = test_images.shape[0]\n",
                "size = test_images.shape[1:3]\n",
                "# we also need to resize the test images. This might not be the best ideas depending on their spatial resolution.\n",
                "print(\"Resizing test images...\")\n",
                "test_images = np.stack([img for img in test_images], 0)\n",
                "test_images = test_images[:, :, :, :3]\n"
            ]
        },
        {
            "cell_type": "code",
            "execution_count": 19,
            "metadata": {},
            "outputs": [
                {
                    "name": "stdout",
                    "output_type": "stream",
                    "text": [
                        "Making predictions...\n"
                    ]
                },
                {
                    "name": "stderr",
                    "output_type": "stream",
                    "text": [
                        "  0%|          | 0/144 [00:00<?, ?it/s]"
                    ]
                },
                {
                    "name": "stdout",
                    "output_type": "stream",
                    "text": [
                        "Shape resize (208, 208, 3)\n",
                        "Max resize 0.99607843\n",
                        "To tensor + unsqueeze shape torch.Size([1, 3, 208, 208])\n",
                        "To tensor + unsqueeze max tensor(0.9961)\n"
                    ]
                },
                {
                    "name": "stderr",
                    "output_type": "stream",
                    "text": [
                        "  0%|          | 0/144 [00:00<?, ?it/s]"
                    ]
                },
                {
                    "name": "stdout",
                    "output_type": "stream",
                    "text": [
                        "After model shape: (1, 1, 208, 208)\n",
                        "After model max: 0.1959082\n"
                    ]
                },
                {
                    "name": "stderr",
                    "output_type": "stream",
                    "text": [
                        "\n"
                    ]
                },
                {
                    "ename": "Exception",
                    "evalue": "",
                    "output_type": "error",
                    "traceback": [
                        "\u001b[0;31m---------------------------------------------------------------------------\u001b[0m",
                        "\u001b[0;31mException\u001b[0m                                 Traceback (most recent call last)",
                        "\u001b[1;32m/cluster/home/csicard/CI-Lab/code/model_best_predict.ipynb Cell 4\u001b[0m in \u001b[0;36m<cell line: 14>\u001b[0;34m()\u001b[0m\n\u001b[1;32m     <a href='vscode-notebook-cell://ssh-remote%2B7b22686f73744e616d65223a2265756c65722e6574687a2e6368222c2275736572223a2263736963617264227d/cluster/home/csicard/CI-Lab/code/model_best_predict.ipynb#ch0000004vscode-remote?line=31'>32</a>\u001b[0m \u001b[39mprint\u001b[39m(\u001b[39m\"\u001b[39m\u001b[39mAfter model shape:\u001b[39m\u001b[39m\"\u001b[39m, res\u001b[39m.\u001b[39mshape)\n\u001b[1;32m     <a href='vscode-notebook-cell://ssh-remote%2B7b22686f73744e616d65223a2265756c65722e6574687a2e6368222c2275736572223a2263736963617264227d/cluster/home/csicard/CI-Lab/code/model_best_predict.ipynb#ch0000004vscode-remote?line=32'>33</a>\u001b[0m \u001b[39mprint\u001b[39m(\u001b[39m\"\u001b[39m\u001b[39mAfter model max:\u001b[39m\u001b[39m\"\u001b[39m, np\u001b[39m.\u001b[39mmax(res))\n\u001b[0;32m---> <a href='vscode-notebook-cell://ssh-remote%2B7b22686f73744e616d65223a2265756c65722e6574687a2e6368222c2275736572223a2263736963617264227d/cluster/home/csicard/CI-Lab/code/model_best_predict.ipynb#ch0000004vscode-remote?line=33'>34</a>\u001b[0m \u001b[39mraise\u001b[39;00m \u001b[39mException\u001b[39;00m()\n\u001b[1;32m     <a href='vscode-notebook-cell://ssh-remote%2B7b22686f73744e616d65223a2265756c65722e6574687a2e6368222c2275736572223a2263736963617264227d/cluster/home/csicard/CI-Lab/code/model_best_predict.ipynb#ch0000004vscode-remote?line=34'>35</a>\u001b[0m \u001b[39mprint\u001b[39m(res\u001b[39m.\u001b[39mshape)\n\u001b[1;32m     <a href='vscode-notebook-cell://ssh-remote%2B7b22686f73744e616d65223a2265756c65722e6574687a2e6368222c2275736572223a2263736963617264227d/cluster/home/csicard/CI-Lab/code/model_best_predict.ipynb#ch0000004vscode-remote?line=36'>37</a>\u001b[0m pred_cropped[i, :, :, :] \u001b[39m=\u001b[39m res\n",
                        "\u001b[0;31mException\u001b[0m: "
                    ]
                }
            ],
            "source": [
                "%matplotlib inline\n",
                "\n",
                "print(\"Making predictions...\")\n",
                "import torchvision.transforms.functional as TF\n",
                "\n",
                "\n",
                "# checkpoint = torch.load(best_weights_path)\n",
                "# model.load_state_dict(checkpoint[\"model_state_dict\"])\n",
                "# print(f\"Loaded best model weights ({best_weights_path})\")\n",
                "\n",
                "test_pred = []\n",
                "CROP_SIZE = 200\n",
                "RESIZE_SIZE = 208\n",
                "for image in tqdm(test_images):\n",
                "    # 1. On fait les crops: on divise l'image en 4 parties qui ne s'overlapent pas\n",
                "    cropped_image = [\n",
                "        image[:, 0:CROP_SIZE, 0:CROP_SIZE],\n",
                "        image[:, CROP_SIZE : 2 * CROP_SIZE, 0:CROP_SIZE],\n",
                "        image[:, 0:CROP_SIZE, CROP_SIZE : 2 * CROP_SIZE],\n",
                "        image[:, CROP_SIZE : 2 * CROP_SIZE, CROP_SIZE : 2 * CROP_SIZE],\n",
                "    ]\n",
                "    pred_cropped = np.zeros((len(cropped_image), 3, RESIZE_SIZE, RESIZE_SIZE))\n",
                "\n",
                "    for i, c_img in enumerate(cropped_image):\n",
                "        r = cv2.resize(c_img, dsize=(RESIZE_SIZE, RESIZE_SIZE))\n",
                "        print(\"Shape resize\", r.shape)\n",
                "        print(\"Max resize\", np.max(r))\n",
                "        t = np_to_tensor(np.expand_dims(np.moveaxis(r, -1, 0), axis=0), device)\n",
                "        print(\"To tensor + unsqueeze shape\", t.shape)\n",
                "        print(\"To tensor + unsqueeze max\", t.max())\n",
                "        res = model(t).detach().cpu().numpy()\n",
                "        print(\"After model shape:\", res.shape)\n",
                "        print(\"After model max:\", np.max(res))\n",
                "        raise Exception()\n",
                "        print(res.shape)\n",
                "        \n",
                "        pred_cropped[i, :, :, :] = res\n",
                "\n",
                "\n",
                "    print(f\"Max of all pred cropeed images: {torch.max(pred_cropped)}\")\n",
                "\n",
                "    full_pred = np.zeros((3, 400, 400))\n",
                "\n",
                "    full_pred[:, 0:CROP_SIZE, 0:CROP_SIZE] = TF.resize(\n",
                "        pred_cropped[0], size=(CROP_SIZE, CROP_SIZE), antialias=True\n",
                "    )\n",
                "    print(f\"Max full pred: {np.max(full_pred)}\")\n",
                "    full_pred[:, CROP_SIZE : 2 * CROP_SIZE, 0:CROP_SIZE] = TF.resize(\n",
                "        pred_cropped[1], size=(CROP_SIZE, CROP_SIZE), antialias=True\n",
                "    )\n",
                "    print(f\"Max full pred: {np.max(full_pred)}\")\n",
                "    full_pred[:, 0:CROP_SIZE, CROP_SIZE : 2 * CROP_SIZE] = TF.resize(\n",
                "        pred_cropped[2], size=(CROP_SIZE, CROP_SIZE), antialias=True\n",
                "    )\n",
                "    print(f\"Max full pred: {np.max(full_pred)}\")\n",
                "    full_pred[\n",
                "        :, CROP_SIZE : 2 * CROP_SIZE, CROP_SIZE : 2 * CROP_SIZE\n",
                "    ] = TF.resize(pred_cropped[3], size=(CROP_SIZE, CROP_SIZE), antialias=True)\n",
                "    print(f\"Max full pred: {np.max(full_pred)}\")\n",
                "    test_pred.append(full_pred)"
            ]
        },
        {
            "cell_type": "code",
            "execution_count": null,
            "metadata": {},
            "outputs": [],
            "source": [
                "\n",
                "    print(\"max of test_pred\", np.max(test_pred))\n",
                "    # test_pred = [model(t).detach().cpu().numpy()\n",
                "    #              for t in tqdm(test_images.unsqueeze(1))]\n",
                "    test_pred = np.concatenate(test_pred, 0)\n",
                "    test_pred = np.moveaxis(test_pred, 1, -1)  # CHW to HWC\n",
                "    test_pred = np.stack([img for img in test_pred], 0)  # resize to original shape\n",
                "    # Now compute labels\n",
                "    test_pred = test_pred.reshape(\n",
                "        (-1, size[0] // PATCH_SIZE, PATCH_SIZE, size[0] // PATCH_SIZE, PATCH_SIZE)\n",
                "    )\n",
                "    test_pred = np.moveaxis(test_pred, 2, 3)\n",
                "    test_pred = np.round(np.mean(test_pred, (-1, -2)) > CUTOFF)\n",
                "    print(f\"Test predictions shape: {test_pred.shape}\")\n",
                "    now = datetime.now()\n",
                "    t = now.strftime(\"%Y-%m-%d_%H-%M-%S\")\n",
                "    os.makedirs(\"submissions\", exist_ok=True)\n",
                "    create_submission(\n",
                "        test_pred,\n",
                "        test_filenames,\n",
                "        submission_filename=f\"../submissions/swin_unet_submission_{t}.csv\",\n",
                "    )\n",
                "    print(f\"Created submission!\")"
            ]
        },
        {
            "cell_type": "code",
            "execution_count": null,
            "metadata": {},
            "outputs": [],
            "source": [
                "test_pred_copy = test_pred.copy()"
            ]
        },
        {
            "cell_type": "code",
            "execution_count": null,
            "metadata": {},
            "outputs": [],
            "source": [
                "np.max(test_pred[0])"
            ]
        },
        {
            "cell_type": "code",
            "execution_count": null,
            "metadata": {},
            "outputs": [],
            "source": [
                "\n",
                "with torch.no_grad():\n",
                "    test_pred_c = np.concatenate(test_pred_copy, 0)\n",
                "    test_pred_c = np.moveaxis(test_pred, 1, -1)  # CHW to HWC\n",
                "    test_pred_c = np.stack([img for img in test_pred], 0)  # resize to original shape\n",
                "    # Now compute labels\n",
                "    test_pred_c = test_pred_c.reshape(\n",
                "        (-1, size[0] // PATCH_SIZE, PATCH_SIZE, size[0] // PATCH_SIZE, PATCH_SIZE)\n",
                "    )\n",
                "    test_pred_c = np.moveaxis(test_pred_c, 2, 3)\n",
                "    test_pred_c = np.round(np.mean(test_pred_c, (-1, -2)) > CUTOFF)\n",
                "    print(f\"Test predictions shape: {test_pred_c.shape}\")\n",
                "    now = datetime.now()\n",
                "    t = now.strftime(\"%Y-%m-%d_%H-%M-%S\")\n",
                "    os.makedirs(\"submissions\", exist_ok=True)\n",
                "    create_submission(\n",
                "        test_pred_c,\n",
                "        test_filenames,\n",
                "        submission_filename=f\"../submissions/swin_unet_submission_{t}.csv\",\n",
                "    )\n",
                "    print(f\"Created submission!\")"
            ]
        },
        {
            "cell_type": "code",
            "execution_count": 11,
            "metadata": {},
            "outputs": [
                {
                    "data": {
                        "text/plain": [
                            "torch.Size([2, 1, 2, 3])"
                        ]
                    },
                    "execution_count": 11,
                    "metadata": {},
                    "output_type": "execute_result"
                }
            ],
            "source": [
                "a = torch.zeros((1,2, 3))\n",
                "b = torch.zeros((1,2, 3))\n",
                "c = torch.stack([a,b], 0)\n",
                "c.shape"
            ]
        },
        {
            "cell_type": "code",
            "execution_count": 12,
            "metadata": {},
            "outputs": [
                {
                    "data": {
                        "text/plain": [
                            "torch.Size([1, 2, 3])"
                        ]
                    },
                    "execution_count": 12,
                    "metadata": {},
                    "output_type": "execute_result"
                }
            ],
            "source": [
                "c[0, :, :, :].shape"
            ]
        },
        {
            "cell_type": "code",
            "execution_count": 13,
            "metadata": {},
            "outputs": [
                {
                    "name": "stdout",
                    "output_type": "stream",
                    "text": [
                        "tensor([[[0., 0., 0.],\n",
                        "         [0., 0., 0.]]])\n",
                        "tensor([[[0., 0., 0.],\n",
                        "         [0., 0., 0.]]])\n"
                    ]
                }
            ],
            "source": [
                "for i in c:\n",
                "    print(i)"
            ]
        },
        {
            "cell_type": "code",
            "execution_count": null,
            "metadata": {},
            "outputs": [],
            "source": []
        }
    ],
    "metadata": {
        "kernelspec": {
            "display_name": "Python 3.8.13 ('cil')",
            "language": "python",
            "name": "python3"
        },
        "language_info": {
            "codemirror_mode": {
                "name": "ipython",
                "version": 3
            },
            "file_extension": ".py",
            "mimetype": "text/x-python",
            "name": "python",
            "nbconvert_exporter": "python",
            "pygments_lexer": "ipython3",
            "version": "3.8.13"
        },
        "vscode": {
            "interpreter": {
                "hash": "92bf0ce2d3d2b915734ebeb98ba41747780908d4e212f90872085002b1d192b4"
            }
        }
    },
    "nbformat": 4,
    "nbformat_minor": 2
}
