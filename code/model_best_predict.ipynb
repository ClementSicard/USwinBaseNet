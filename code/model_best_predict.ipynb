{
 "cells": [
  {
   "cell_type": "code",
   "execution_count": null,
   "metadata": {},
   "outputs": [],
   "source": [
    "import torch\n",
    "from utils import *\n",
    "from dataset import ImageDataset\n",
    "from models.baselines.baseline_vanilla_unet import UNet"
   ]
  },
  {
   "cell_type": "code",
   "execution_count": null,
   "metadata": {},
   "outputs": [],
   "source": [
    "checkpoint = torch.load(\"../checkpoints/kaggle_0.90_weights_vanillaunet.pt\", map_location=torch.device('cpu'))"
   ]
  },
  {
   "cell_type": "code",
   "execution_count": null,
   "metadata": {},
   "outputs": [],
   "source": [
    "model = UNet().to(\"cpu\")\n",
    "model.load_state_dict(checkpoint[\"model_state_dict\"])"
   ]
  },
  {
   "cell_type": "code",
   "execution_count": null,
   "metadata": {},
   "outputs": [],
   "source": [
    "import os\n",
    "from glob import glob\n",
    "\n",
    "from tqdm import tqdm\n",
    "from utils import *\n",
    "from consts import *\n",
    "import cv2\n",
    "import numpy as np\n",
    "from datetime import datetime\n",
    "\n",
    "device = \"cpu\"\n",
    "\n",
    "# predict on test set\n",
    "test_path = os.path.join(\"../data/test\", \"images\")\n",
    "test_filenames = glob(test_path + \"/*.png\")\n",
    "test_images = load_all_from_path(test_path)\n",
    "batch_size = test_images.shape[0]\n",
    "size = test_images.shape[1:3]\n",
    "# we also need to resize the test images. This might not be the best ideas depending on their spatial resolution.\n",
    "log(\"Resizing test images...\")\n",
    "test_images = np.stack([cv2.resize(img, dsize=(384, 384)) for img in test_images], 0)\n",
    "test_images = test_images[:, :, :, :3]\n",
    "test_images = np_to_tensor(np.moveaxis(test_images, -1, 1), device)"
   ]
  },
  {
   "cell_type": "code",
   "execution_count": null,
   "metadata": {},
   "outputs": [],
   "source": [
    "log(\"Making predictions...\")\n",
    "\n",
    "test_pred = [model(t).detach().cpu().numpy() for t in tqdm(test_images.unsqueeze(1))]\n",
    "test_pred = np.concatenate(test_pred, 0)\n",
    "test_pred = np.moveaxis(test_pred, 1, -1)  # CHW to HWC\n",
    "test_pred = np.stack([cv2.resize(img, dsize=size) for img in test_pred], 0)  # resize to original shape\n",
    "# now compute labels\n",
    "test_pred = test_pred.reshape((-1, size[0] // PATCH_SIZE, PATCH_SIZE, size[0] // PATCH_SIZE, PATCH_SIZE))\n",
    "test_pred = np.moveaxis(test_pred, 2, 3)\n",
    "test_pred = np.round(np.mean(test_pred, (-1, -2)) > CUTOFF)\n"
   ]
  },
  {
   "cell_type": "code",
   "execution_count": null,
   "metadata": {},
   "outputs": [],
   "source": [
    "log(f\"Test predictions shape: {test_pred.shape}\")\n",
    "now = datetime.now()\n",
    "t = now.strftime(\"%Y-%m-%d_%H:%M:%S\")\n",
    "os.makedirs(\"submissions\", exist_ok=True)\n",
    "create_submission(\n",
    "    test_pred,\n",
    "    test_filenames,\n",
    "    submission_filename=f\"../../submissions/baseline_unet_submission_{t}.csv\",\n",
    ")"
   ]
  },
  {
   "cell_type": "code",
   "execution_count": null,
   "metadata": {},
   "outputs": [],
   "source": []
  }
 ],
 "metadata": {
  "kernelspec": {
   "display_name": "Python 3.8.13 ('cil')",
   "language": "python",
   "name": "python3"
  },
  "language_info": {
   "codemirror_mode": {
    "name": "ipython",
    "version": 3
   },
   "file_extension": ".py",
   "mimetype": "text/x-python",
   "name": "python",
   "nbconvert_exporter": "python",
   "pygments_lexer": "ipython3",
   "version": "3.8.13"
  },
  "vscode": {
   "interpreter": {
    "hash": "e94c46c399267a3102d21c0e97c5ee9fc91e71b8e548a3b77ef16a5ae53616e8"
   }
  }
 },
 "nbformat": 4,
 "nbformat_minor": 2
}
