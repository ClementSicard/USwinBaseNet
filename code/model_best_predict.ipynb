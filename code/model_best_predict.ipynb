{
 "cells": [
  {
   "cell_type": "code",
   "execution_count": null,
   "metadata": {},
   "outputs": [],
   "source": [
    "import torch\n",
    "from utils import *\n",
    "from dataset import ImageDataset\n",
    "from models.swin_unet import SwinUnet\n",
    "from dataset import ImageDataset\n",
    "import os\n",
    "from glob import glob\n",
    "\n",
    "from tqdm import tqdm\n",
    "from utils import *\n",
    "from consts import *\n",
    "import cv2\n",
    "import numpy as np\n",
    "from datetime import datetime\n",
    "from PIL.Image import fromarray"
   ]
  },
  {
   "cell_type": "code",
   "execution_count": null,
   "metadata": {},
   "outputs": [],
   "source": [
    "checkpoint = torch.load(\"../checkpoints/omgggg.pt\", map_location=torch.device('cpu'))\n",
    "model = SwinUnet(model_type=\"base\").to(\"cpu\")\n",
    "model.load_state_dict(checkpoint[\"model_state_dict\"])"
   ]
  },
  {
   "cell_type": "code",
   "execution_count": null,
   "metadata": {},
   "outputs": [],
   "source": [
    "device = \"cpu\"\n",
    "test_path = \"../data/test\"\n",
    "\n",
    "\n",
    "print(\"Predicting on test set...\")\n",
    "test_path = os.path.join(test_path, \"images\")\n",
    "test_filenames = glob(test_path + \"/*.png\")\n",
    "test_images = load_all_from_path(test_path)\n",
    "batch_size = test_images.shape[0]\n",
    "size = test_images.shape[1:3]\n",
    "# we also need to resize the test images. This might not be the best ideas depending on their spatial resolution.\n",
    "print(\"Resizing test images...\")\n",
    "test_images = np.stack([img for img in test_images], 0)\n",
    "test_images = test_images[:, :, :, :3]\n",
    "test_images = np_to_tensor(np.moveaxis(test_images, -1, 1), device)\n"
   ]
  },
  {
   "cell_type": "code",
   "execution_count": null,
   "metadata": {},
   "outputs": [],
   "source": [
    "%matplotlib inline\n",
    "\n",
    "print(\"Making predictions...\")\n",
    "import torchvision.transforms.functional as TF\n",
    "\n",
    "with torch.no_grad():\n",
    "    # checkpoint = torch.load(best_weights_path)\n",
    "    # model.load_state_dict(checkpoint[\"model_state_dict\"])\n",
    "    # print(f\"Loaded best model weights ({best_weights_path})\")\n",
    "\n",
    "    test_pred = []\n",
    "    CROP_SIZE = 200\n",
    "    RESIZE_SIZE = 208\n",
    "    for image in tqdm(test_images):\n",
    "        # 1. On fait les crops: on divise l'image en 4 parties qui ne s'overlapent pas\n",
    "        cropped_image = [\n",
    "            image[:, 0:CROP_SIZE, 0:CROP_SIZE],\n",
    "            image[:, CROP_SIZE : 2 * CROP_SIZE, 0:CROP_SIZE],\n",
    "            image[:, 0:CROP_SIZE, CROP_SIZE : 2 * CROP_SIZE],\n",
    "            image[:, CROP_SIZE : 2 * CROP_SIZE, CROP_SIZE : 2 * CROP_SIZE],\n",
    "        ]\n",
    "\n",
    "        # pred_cropped = [\n",
    "        #     model(cv2.resize(c_img, dsize=(RESIZE_SIZE, RESIZE_SIZE)))\n",
    "        #     .detach()\n",
    "        #     .cpu()\n",
    "        #     .numpy()\n",
    "        #     for c_img in cropped_image\n",
    "        # ]\n",
    "        pred_cropped = []\n",
    "        for c_img in cropped_image:\n",
    "            r = TF.resize(c_img, size=(RESIZE_SIZE, RESIZE_SIZE))\n",
    "            r = r[None, :]\n",
    "            res = model(r).detach().cpu()\n",
    "            print(res.shape)\n",
    "            print(torch.max(res))\n",
    "            pred_cropped.append(res)\n",
    "\n",
    "        full_pred = np.zeros((3, 400, 400))\n",
    "\n",
    "        full_pred[:, 0:CROP_SIZE, 0:CROP_SIZE] = TF.resize(\n",
    "            pred_cropped[0], size=(CROP_SIZE, CROP_SIZE)\n",
    "        )\n",
    "        full_pred[:, CROP_SIZE : 2 * CROP_SIZE, 0:CROP_SIZE] = TF.resize(\n",
    "            pred_cropped[1], size=(CROP_SIZE, CROP_SIZE)\n",
    "        )\n",
    "        full_pred[:, 0:CROP_SIZE, CROP_SIZE : 2 * CROP_SIZE] = TF.resize(\n",
    "            pred_cropped[2], size=(CROP_SIZE, CROP_SIZE)\n",
    "        )\n",
    "        full_pred[\n",
    "            :, CROP_SIZE : 2 * CROP_SIZE, CROP_SIZE : 2 * CROP_SIZE\n",
    "        ] = TF.resize(pred_cropped[3], size=(CROP_SIZE, CROP_SIZE))\n",
    "\n",
    "        test_pred.append(full_pred)\n",
    "\n",
    "    # test_pred = [model(t).detach().cpu().numpy()\n",
    "    #              for t in tqdm(test_images.unsqueeze(1))]\n",
    "\n"
   ]
  },
  {
   "cell_type": "code",
   "execution_count": null,
   "metadata": {},
   "outputs": [],
   "source": [
    "test_pred_copy = test_pred.copy()"
   ]
  },
  {
   "cell_type": "code",
   "execution_count": null,
   "metadata": {},
   "outputs": [],
   "source": [
    "np.max(test_pred[0])"
   ]
  },
  {
   "cell_type": "code",
   "execution_count": null,
   "metadata": {},
   "outputs": [],
   "source": [
    "\n",
    "with torch.no_grad():\n",
    "    test_pred_c = np.concatenate(test_pred_copy, 0)\n",
    "    test_pred_c = np.moveaxis(test_pred, 1, -1)  # CHW to HWC\n",
    "    test_pred_c = np.stack([img for img in test_pred], 0)  # resize to original shape\n",
    "    # Now compute labels\n",
    "    test_pred_c = test_pred_c.reshape(\n",
    "        (-1, size[0] // PATCH_SIZE, PATCH_SIZE, size[0] // PATCH_SIZE, PATCH_SIZE)\n",
    "    )\n",
    "    test_pred_c = np.moveaxis(test_pred_c, 2, 3)\n",
    "    test_pred_c = np.round(np.mean(test_pred_c, (-1, -2)) > CUTOFF)\n",
    "    print(f\"Test predictions shape: {test_pred_c.shape}\")\n",
    "    now = datetime.now()\n",
    "    t = now.strftime(\"%Y-%m-%d_%H-%M-%S\")\n",
    "    os.makedirs(\"submissions\", exist_ok=True)\n",
    "    create_submission(\n",
    "        test_pred_c,\n",
    "        test_filenames,\n",
    "        submission_filename=f\"../submissions/swin_unet_submission_{t}.csv\",\n",
    "    )\n",
    "    print(f\"Created submission!\")"
   ]
  },
  {
   "cell_type": "code",
   "execution_count": null,
   "metadata": {},
   "outputs": [],
   "source": []
  }
 ],
 "metadata": {
  "kernelspec": {
   "display_name": "Python 3.8.13 ('cil')",
   "language": "python",
   "name": "python3"
  },
  "language_info": {
   "codemirror_mode": {
    "name": "ipython",
    "version": 3
   },
   "file_extension": ".py",
   "mimetype": "text/x-python",
   "name": "python",
   "nbconvert_exporter": "python",
   "pygments_lexer": "ipython3",
   "version": "3.8.13"
  },
  "vscode": {
   "interpreter": {
    "hash": "e94c46c399267a3102d21c0e97c5ee9fc91e71b8e548a3b77ef16a5ae53616e8"
   }
  }
 },
 "nbformat": 4,
 "nbformat_minor": 2
}
