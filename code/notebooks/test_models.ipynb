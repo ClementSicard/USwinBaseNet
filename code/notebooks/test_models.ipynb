{
 "cells": [
  {
   "cell_type": "code",
   "execution_count": null,
   "metadata": {},
   "outputs": [],
   "source": [
    "from torchvision.models import vit_b_32, ConvNeXt_Large_Weights\n",
    "from torchvision.models import convnext_small, ConvNeXt_Small_Weights\n",
    "import torch\n",
    "from torch.utils.data import DataLoader\n",
    "import sys\n",
    "sys.path.append(\"..\")\n",
    "from utils import get_best_available_device\n",
    "from dataset import ImageDataset\n",
    "import matplotlib.pyplot as plt"
   ]
  },
  {
   "cell_type": "markdown",
   "metadata": {},
   "source": [
    "# 1. Get dataset"
   ]
  },
  {
   "cell_type": "code",
   "execution_count": null,
   "metadata": {},
   "outputs": [],
   "source": [
    "# BATCH_SIZE = 32\n",
    "BATCH_SIZE = 1\n",
    "device = get_best_available_device()\n",
    "print(\"Using device:\", device)\n",
    "\n",
    "dataset = ImageDataset(path=\"../../data/training/\", device=\"cpu\", use_patches=False)\n",
    "dataloader = iter(DataLoader(dataset, batch_size=BATCH_SIZE, shuffle=True))"
   ]
  },
  {
   "cell_type": "code",
   "execution_count": null,
   "metadata": {},
   "outputs": [],
   "source": [
    "print(f\"There are {len(dataloader)} images in the dataset.\")"
   ]
  },
  {
   "cell_type": "code",
   "execution_count": null,
   "metadata": {},
   "outputs": [],
   "source": [
    "batch = next(dataloader)\n",
    "images, masks = batch\n",
    "\n",
    "plt.imshow(images[0].numpy().transpose(1, 2, 0))\n",
    "plt.imshow(masks[0].numpy().transpose(1, 2, 0), alpha=0.3)\n",
    "plt.show()"
   ]
  },
  {
   "cell_type": "markdown",
   "metadata": {},
   "source": [
    "# 2. Create model and load weights"
   ]
  },
  {
   "cell_type": "code",
   "execution_count": null,
   "metadata": {},
   "outputs": [],
   "source": [
    "import json\n",
    "\n",
    "with open('imagenet_labels.json', 'r') as f:\n",
    "    labels = json.load(f)[\"labels\"]\n"
   ]
  },
  {
   "cell_type": "code",
   "execution_count": null,
   "metadata": {},
   "outputs": [],
   "source": [
    "# preprocess = weights.transforms()\n",
    "# preprocess\n",
    "# TODO do we remove preprocessing?"
   ]
  },
  {
   "cell_type": "code",
   "execution_count": null,
   "metadata": {},
   "outputs": [],
   "source": [
    "with torch.no_grad():\n",
    "    out = encoder(images)  \n",
    "# len(encoder.x_int)\n",
    "# list of channels in and channels out when upsampling\n",
    "sizes = [(y.shape[1], x.shape[1])  for x,y in zip(encoder.x_int, encoder.x_int[1:])]\n",
    "sizes.reverse()\n",
    "# for int in encoder.x_int:\n",
    "    # print(int.shape)\n",
    "# out.shape\n",
    "print(\"those are the sizes for the decoder inferred from the encoder\", sizes)\n"
   ]
  },
  {
   "cell_type": "code",
   "execution_count": null,
   "metadata": {},
   "outputs": [],
   "source": [
    "from swin_unet import SwinUNet\n",
    "\n",
    "model_unet = SwinUNet()"
   ]
  },
  {
   "cell_type": "code",
   "execution_count": null,
   "metadata": {},
   "outputs": [],
   "source": [
    "with torch.no_grad():\n",
    "    out2 = model_unet(images)"
   ]
  },
  {
   "cell_type": "markdown",
   "metadata": {},
   "source": []
  },
  {
   "cell_type": "code",
   "execution_count": null,
   "metadata": {},
   "outputs": [],
   "source": [
    "out2.shape"
   ]
  },
  {
   "cell_type": "code",
   "execution_count": null,
   "metadata": {},
   "outputs": [],
   "source": []
  }
 ],
 "metadata": {
  "kernelspec": {
   "display_name": "Python 3.9.9 64-bit (windows store)",
   "language": "python",
   "name": "python3"
  },
  "language_info": {
   "codemirror_mode": {
    "name": "ipython",
    "version": 3
   },
   "file_extension": ".py",
   "mimetype": "text/x-python",
   "name": "python",
   "nbconvert_exporter": "python",
   "pygments_lexer": "ipython3",
   "version": "3.9.13"
  },
  "vscode": {
   "interpreter": {
    "hash": "9448907cccf2c455f9de2b3f2208f7ba6186fcea452b9a818289155c7f97ad03"
   }
  }
 },
 "nbformat": 4,
 "nbformat_minor": 2
}
